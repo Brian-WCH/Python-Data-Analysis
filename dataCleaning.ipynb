{
 "cells": [
  {
   "cell_type": "code",
   "execution_count": null,
   "metadata": {},
   "outputs": [],
   "source": [
    "import pandas as pd\n",
    "import numpy as np"
   ]
  },
  {
   "cell_type": "code",
   "execution_count": null,
   "metadata": {},
   "outputs": [],
   "source": [
    "file_list = ['./110S1/', './110S2/', './110S3/', './110S4/', './111S1/', './111S2/', './111S3/', './111S4/']\n",
    "dfs = []\n",
    "\n",
    "for file in file_list:\n",
    "    df_temp = pd.read_csv(file + 'A_lvr_land_A.csv')\n",
    "    dfs.append(df_temp)\n",
    "\n",
    "# 將資料串接起來\n",
    "dfA = pd.concat(dfs)"
   ]
  },
  {
   "cell_type": "code",
   "execution_count": null,
   "metadata": {},
   "outputs": [],
   "source": [
    "dfA"
   ]
  },
  {
   "cell_type": "code",
   "execution_count": null,
   "metadata": {},
   "outputs": [],
   "source": [
    "dfsb = []\n",
    "\n",
    "for file in file_list:\n",
    "    df_temp = pd.read_csv(file + 'A_lvr_land_B.csv')\n",
    "    dfsb.append(df_temp)\n",
    "\n",
    "# 將資料串接起來\n",
    "dfB = pd.concat(dfsb)"
   ]
  },
  {
   "cell_type": "code",
   "execution_count": null,
   "metadata": {},
   "outputs": [],
   "source": [
    "dfB"
   ]
  },
  {
   "cell_type": "code",
   "execution_count": null,
   "metadata": {},
   "outputs": [],
   "source": [
    "# 把欄位名稱修改一致\n",
    "dfA.rename(columns={'車位移轉總面積(平方公尺)': '車位移轉總面積平方公尺'}, inplace=True)\n",
    "\n",
    "# 增加是否為預售屋的欄位\n",
    "dfA['預售屋'] = '0'\n",
    "dfB['預售屋'] = '1'"
   ]
  },
  {
   "cell_type": "code",
   "execution_count": null,
   "metadata": {},
   "outputs": [],
   "source": [
    "# 移除dfA和dfB的第一個row（英文名稱）\n",
    "dfA = dfA.drop(dfA.index[0])\n",
    "dfB = dfB.drop(dfB.index[0])\n",
    "\n",
    "# 合併一般不動產和預售屋的資料\n",
    "df_merged = pd.concat([dfA, dfB])"
   ]
  },
  {
   "cell_type": "code",
   "execution_count": null,
   "metadata": {},
   "outputs": [],
   "source": [
    "df_merged.columns"
   ]
  },
  {
   "cell_type": "code",
   "execution_count": null,
   "metadata": {},
   "outputs": [],
   "source": [
    "df_merged.head(3)"
   ]
  },
  {
   "attachments": {},
   "cell_type": "markdown",
   "metadata": {},
   "source": [
    "## Exploratory Data Analysis"
   ]
  },
  {
   "cell_type": "code",
   "execution_count": null,
   "metadata": {},
   "outputs": [],
   "source": [
    "# from matplotlib.font_manager import fontManager\n",
    "\n",
    "# for i in sorted(fontManager.get_font_names()):\n",
    "#     print(i)"
   ]
  },
  {
   "cell_type": "code",
   "execution_count": null,
   "metadata": {},
   "outputs": [],
   "source": [
    "# import matplotlib.pyplot as plt\n",
    "\n",
    "# # plt.rcParams['font.sans-serif'] = ['SimHei']  # 替換成您安裝的中文字型\n",
    "\n",
    "# df_merged['鄉鎮市區'].value_counts().plot(kind='bar')\n",
    "\n",
    "# # 設定圖表標題和軸標籤\n",
    "# plt.title('鄉鎮市區資料數統計')\n",
    "# plt.xlabel('鄉鎮市區')\n",
    "# plt.ylabel('數量')\n",
    "\n",
    "# # 顯示圖表\n",
    "# plt.show()"
   ]
  },
  {
   "attachments": {},
   "cell_type": "markdown",
   "metadata": {},
   "source": [
    "## Data Cleaning"
   ]
  },
  {
   "cell_type": "code",
   "execution_count": null,
   "metadata": {},
   "outputs": [],
   "source": [
    "# 移除不需要的欄位\n",
    "df_merged = df_merged.drop(['交易標的', '都市土地使用分區', '非都市土地使用分區', '非都市土地使用編定', '總樓層數', '主要用途',\n",
    "              '主要建材', '車位總價元', '編號', '移轉編號', '建案名稱', '棟及號'], axis=1)"
   ]
  },
  {
   "cell_type": "code",
   "execution_count": null,
   "metadata": {},
   "outputs": [],
   "source": [
    "df_merged.head(3)"
   ]
  },
  {
   "cell_type": "code",
   "execution_count": null,
   "metadata": {},
   "outputs": [],
   "source": [
    "from datetime import datetime, timedelta\n",
    "from dateutil.relativedelta import relativedelta\n",
    "\n",
    "# 將建築完成年月改成建築完成幾年\n",
    "df_merged['建築完成距今'] = df_merged['建築完成年月'].apply(lambda x: datetime.strptime(str(int(x) + 19110000), '%Y%m%d').date() if pd.notnull(x) and isinstance(x, (int, str)) and len(str(x)) in [6, 7, 8] else None)\n",
    "\n",
    "# 計算交易距今的相差年數\n",
    "current_date = datetime.now().date()  # 獲取當前日期\n",
    "df_merged['建築完成距今'] = df_merged['建築完成距今'].apply(lambda x: relativedelta(current_date, x).years)  # 計算相差的年數"
   ]
  },
  {
   "cell_type": "code",
   "execution_count": null,
   "metadata": {},
   "outputs": [],
   "source": [
    "df_merged"
   ]
  },
  {
   "cell_type": "code",
   "execution_count": null,
   "metadata": {},
   "outputs": [],
   "source": [
    "# 計算每個鄉鎮市區的建築完成距今的平均值\n",
    "average_by_district = df_merged.groupby('鄉鎮市區')['建築完成距今'].mean()\n",
    "\n",
    "# 依據鄉鎮市區填入建築完成距今為0的資料的平均值\n",
    "df_merged['建築完成距今'] = df_merged.apply(lambda row: average_by_district[row['鄉鎮市區']] if row['建築完成距今'] == 0 else row['建築完成距今'], axis=1)\n",
    "df_merged.loc[df_merged['預售屋'] == 1, '建築完成距今'] = 0"
   ]
  },
  {
   "cell_type": "code",
   "execution_count": null,
   "metadata": {},
   "outputs": [],
   "source": [
    "df_merged.drop('建築完成年月', axis=1, inplace=True)"
   ]
  },
  {
   "cell_type": "code",
   "execution_count": null,
   "metadata": {},
   "outputs": [],
   "source": [
    "df_merged.head(3)"
   ]
  },
  {
   "cell_type": "code",
   "execution_count": null,
   "metadata": {},
   "outputs": [],
   "source": [
    "# 把鄉鎮市區變成dummy variables\n",
    "df_merged = pd.get_dummies(df_merged, columns=['鄉鎮市區'])\n",
    "df_merged.head(3)"
   ]
  },
  {
   "cell_type": "code",
   "execution_count": null,
   "metadata": {},
   "outputs": [],
   "source": [
    "# 將\"交易筆棟數\"拆成3個欄位\n",
    "df_merged[['交易土地', '交易建物', '交易車位']] = df_merged['交易筆棟數'].str.extract(r'土地(\\d+)建物(\\d+)車位(\\d+)')\n",
    "\n",
    "# 將數字轉換為整數型態\n",
    "df_merged[['交易土地', '交易建物', '交易車位']] = df_merged[['交易土地', '交易建物', '交易車位']].astype(int)\n",
    "\n",
    "# 移除原始的「交易筆棟數」欄位\n",
    "df_merged.drop('交易筆棟數', axis=1, inplace=True)"
   ]
  },
  {
   "cell_type": "code",
   "execution_count": null,
   "metadata": {},
   "outputs": [],
   "source": [
    "from datetime import datetime, timedelta\n",
    "from dateutil.relativedelta import relativedelta\n",
    "\n",
    "# 將交易年月日改成交易完成幾年\n",
    "df_merged['交易年月日'] = df_merged['交易年月日'].apply(lambda x: datetime.strptime(str(int(x)+19110000), '%Y%m%d'))  # 將字串轉換為日期格式\n",
    "\n",
    "# 計算交易距今的相差年數\n",
    "current_date = datetime.now().date()  # 獲取當前日期\n",
    "df_merged['交易距今'] = df_merged['交易年月日'].apply(lambda x: relativedelta(current_date, x).years)  # 計算相差的年數\n",
    "\n",
    "# 移除原始的「交易年月日」欄位\n",
    "df_merged.drop('交易年月日', axis=1, inplace=True)"
   ]
  },
  {
   "cell_type": "code",
   "execution_count": null,
   "metadata": {},
   "outputs": [],
   "source": [
    "df_merged.head(3)"
   ]
  },
  {
   "cell_type": "code",
   "execution_count": null,
   "metadata": {},
   "outputs": [],
   "source": [
    "import re\n",
    "\n",
    "def extract_street(address):\n",
    "    # 定義街道名稱的正則表達式\n",
    "    pattern = r\"(?P<city>[\\u4e00-\\u9fa5]+市)?(?P<district>[\\u4e00-\\u9fa5]+[區市里])?(?P<street>[\\u4e00-\\u9fa5]+[路街巷道段]).*\"\n",
    "\n",
    "    # 使用正則表達式進行匹配\n",
    "    match = re.match(pattern, address)\n",
    "    \n",
    "    if match:\n",
    "        street_name = match.group(\"street\")\n",
    "        \n",
    "        # 去除市區、巷、弄、號等元素\n",
    "        street_name = re.sub(r\"[市區里].*$\", \"\", street_name)\n",
    "        street_name = re.sub(r\"[巷弄號].*$\", \"\", street_name)\n",
    "        return street_name\n",
    "    else:\n",
    "        return None\n",
    "\n",
    "df_merged['路段'] = df_merged['土地位置建物門牌'].apply(extract_street)"
   ]
  },
  {
   "cell_type": "code",
   "execution_count": null,
   "metadata": {},
   "outputs": [],
   "source": [
    "from sklearn.preprocessing import LabelEncoder\n",
    "\n",
    "# 創建 LabelEncoder 物件\n",
    "label_encoder = LabelEncoder()\n",
    "\n",
    "# 將類別變數進行編碼\n",
    "df_merged['路段'] = label_encoder.fit_transform(df_merged['路段'])\n",
    "\n",
    "# 刪除土地位置建物門牌\n",
    "df_merged.drop('土地位置建物門牌', axis=1, inplace=True)"
   ]
  },
  {
   "cell_type": "code",
   "execution_count": null,
   "metadata": {},
   "outputs": [],
   "source": [
    "df_merged.head(3)"
   ]
  },
  {
   "cell_type": "code",
   "execution_count": null,
   "metadata": {},
   "outputs": [],
   "source": [
    "# 查看 \"單價元平方公尺\" 欄位的空值數量\n",
    "null_count = df_merged['單價元平方公尺'].isnull().sum()\n",
    "\n",
    "# 輸出結果\n",
    "print(\"單價元平方公尺的空值數量：\", null_count)\n",
    "print(\"單價元平方公尺的空值比例：\", null_count/58257)"
   ]
  },
  {
   "cell_type": "code",
   "execution_count": null,
   "metadata": {},
   "outputs": [],
   "source": [
    "# 移除 \"單價元平方公尺\" 欄位為空值的資料列\n",
    "df_merged.dropna(subset=['單價元平方公尺'], inplace=True)\n",
    "\n",
    "# 輸出結果\n",
    "print(\"移除空值後的資料筆數：\", len(df_merged))"
   ]
  },
  {
   "cell_type": "code",
   "execution_count": null,
   "metadata": {},
   "outputs": [],
   "source": [
    "# 移除不需要的欄位\n",
    "df_merged = df_merged.drop(['土地移轉總面積平方公尺', '建物移轉總面積平方公尺', '總價元', '車位移轉總面積平方公尺',\n",
    "               '備註', '主建物面積', '附屬建物面積', '陽台面積'], axis=1)"
   ]
  },
  {
   "cell_type": "code",
   "execution_count": null,
   "metadata": {},
   "outputs": [],
   "source": [
    "# 建立層次字串映射的字典\n",
    "layer_mapping = {\n",
    "    '地下一層': -1, '地下二層': -2, '地下三層': -3, '地下四層': -4, '地下五層': -5,\n",
    "    '一層': 1, '二層': 2, '三層': 3, '四層': 4, '五層': 5,\n",
    "    '六層': 6, '七層': 7, '八層': 8, '九層': 9, '十層': 10,\n",
    "    '十一層': 11, '十二層': 12, '十三層': 13, '十四層': 14, '十五層': 15,\n",
    "    '十六層': 16, '十七層': 17, '十八層': 18, '十九層': 19, '二十層': 20,\n",
    "    '二十一層': 21, '二十二層': 22, '二十三層': 23, '二十四層': 24, '二十五層': 25, \n",
    "    '二十六層': 26, '二十七層': 27, '二十八層': 28, '二十九層': 29, '三十層': 30,\n",
    "}\n",
    "\n",
    "def extract_number(text):\n",
    "    if isinstance(text, str):\n",
    "        for number in sorted(layer_mapping.keys(), key=len, reverse=True):\n",
    "            match = re.search(number, text)\n",
    "            if match:\n",
    "                return layer_mapping[number]\n",
    "    return 0\n",
    "\n",
    "# 將 '移轉層次' 欄位中的中文數字轉換為阿拉伯數字\n",
    "df_merged['移轉層次-數字'] = df_merged['移轉層次'].apply(extract_number)\n"
   ]
  },
  {
   "cell_type": "code",
   "execution_count": null,
   "metadata": {},
   "outputs": [],
   "source": [
    "df_merged.drop('移轉層次', axis=1, inplace=True)"
   ]
  },
  {
   "cell_type": "code",
   "execution_count": null,
   "metadata": {},
   "outputs": [],
   "source": [
    "df_merged"
   ]
  },
  {
   "cell_type": "code",
   "execution_count": null,
   "metadata": {},
   "outputs": [],
   "source": [
    "import numpy as np\n",
    "\n",
    "# 填充空值\n",
    "df_merged['電梯'] = df_merged['電梯'].fillna('未知')\n",
    "\n",
    "# 條件判斷並填值\n",
    "df_merged['電梯'] = np.where(\n",
    "    (df_merged['電梯'] == '未知') & \n",
    "    (df_merged['建物型態'].isin(['住宅大樓(11層含以上有電梯)', '華廈(10層含以下有電梯)', '辦公商業大樓'])),\n",
    "    1,\n",
    "    0\n",
    ")"
   ]
  },
  {
   "cell_type": "code",
   "execution_count": null,
   "metadata": {},
   "outputs": [],
   "source": [
    "# 把建物型態變成dummy variables\n",
    "df_merged = pd.get_dummies(df_merged, columns=['建物型態'])\n",
    "df_merged.head(3)"
   ]
  },
  {
   "cell_type": "code",
   "execution_count": null,
   "metadata": {},
   "outputs": [],
   "source": [
    "df_merged['建物現況格局-隔間'] = df_merged['建物現況格局-隔間'].replace({'有': 1, '無': 0})\n",
    "df_merged['有無管理組織'] = df_merged['有無管理組織'].replace({'有': 1, '無': 0})"
   ]
  },
  {
   "cell_type": "code",
   "execution_count": null,
   "metadata": {},
   "outputs": [],
   "source": [
    "df_merged"
   ]
  },
  {
   "cell_type": "code",
   "execution_count": null,
   "metadata": {},
   "outputs": [],
   "source": [
    "# 查看 \"單價元平方公尺\" 欄位的空值數量\n",
    "null_count = df_merged['車位類別'].isnull().sum()\n",
    "\n",
    "# 輸出結果\n",
    "print(\"車位類別的空值數量：\", null_count)\n",
    "# print(\"單價元平方公尺的空值比例：\", null_count/58257)"
   ]
  },
  {
   "cell_type": "code",
   "execution_count": null,
   "metadata": {},
   "outputs": [],
   "source": [
    "df_merged.drop('車位類別', axis=1, inplace=True)"
   ]
  },
  {
   "cell_type": "code",
   "execution_count": null,
   "metadata": {},
   "outputs": [],
   "source": [
    "df_merged"
   ]
  },
  {
   "cell_type": "code",
   "execution_count": null,
   "metadata": {},
   "outputs": [],
   "source": [
    "df_merged.to_csv('df_merged.csv', index=False)"
   ]
  }
 ],
 "metadata": {
  "kernelspec": {
   "display_name": "ML",
   "language": "python",
   "name": "python3"
  },
  "language_info": {
   "codemirror_mode": {
    "name": "ipython",
    "version": 3
   },
   "file_extension": ".py",
   "mimetype": "text/x-python",
   "name": "python",
   "nbconvert_exporter": "python",
   "pygments_lexer": "ipython3",
   "version": "3.10.10"
  },
  "orig_nbformat": 4
 },
 "nbformat": 4,
 "nbformat_minor": 2
}
